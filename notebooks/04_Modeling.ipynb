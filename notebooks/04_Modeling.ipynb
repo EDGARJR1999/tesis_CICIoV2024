{
 "cells": [
  {
   "cell_type": "code",
   "execution_count": 22,
   "id": "4060eea5-3126-4d0f-9401-8b79419cc4af",
   "metadata": {},
   "outputs": [],
   "source": [
    "import pandas as pd\n",
    "\n",
    "df_x = pd.read_csv('../data/curated/dec/df_features.csv')\n",
    "df_y = pd.read_csv('../data/curated/dec/df_target.csv')"
   ]
  },
  {
   "cell_type": "code",
   "execution_count": 24,
   "id": "413c39d1-9eb0-4bca-90cc-09d3b728e593",
   "metadata": {},
   "outputs": [],
   "source": [
    "y = df_y['label_encoded']  # <- 1D array"
   ]
  },
  {
   "cell_type": "code",
   "execution_count": 26,
   "id": "f0466385-94de-45e5-aba7-3e00bbf31bf2",
   "metadata": {},
   "outputs": [],
   "source": [
    "from sklearn.model_selection import train_test_split\n",
    "\n",
    "# Primer split: 80% train_val, 20% test\n",
    "x_train_val, x_test, y_train_val, y_test = train_test_split(\n",
    "    df_x, y, test_size=0.2, stratify=y, random_state=42)\n",
    "# Segundo split: de los 80%, separamos 75% train y 25% val → 60% train, 20% val, 20% test\n",
    "x_train, x_val, y_train, y_val = train_test_split(\n",
    "    x_train_val, y_train_val, test_size=0.25, stratify=y_train_val, random_state=42)\n",
    "#print(x_val)\n",
    "#print(y_val)"
   ]
  },
  {
   "cell_type": "code",
   "execution_count": 32,
   "id": "c6d6dc80-78e0-4139-8505-8077381ac8fb",
   "metadata": {},
   "outputs": [
    {
     "name": "stdout",
     "output_type": "stream",
     "text": [
      "Random Forest - Validation Set\n",
      "              precision    recall  f1-score   support\n",
      "\n",
      "      ATTACK       1.00      1.00      1.00         8\n",
      "      BENIGN       1.00      1.00      1.00       710\n",
      "\n",
      "    accuracy                           1.00       718\n",
      "   macro avg       1.00      1.00      1.00       718\n",
      "weighted avg       1.00      1.00      1.00       718\n",
      "\n",
      "1.0\n",
      "1.0\n"
     ]
    }
   ],
   "source": [
    "from sklearn.ensemble import RandomForestClassifier\n",
    "from sklearn.metrics import classification_report\n",
    "\n",
    "# Crear el modelo\n",
    "rf = RandomForestClassifier(\n",
    "    class_weight='balanced',\n",
    "    random_state=42)\n",
    "# Entrenar con training set\n",
    "rf.fit(x_train, y_train)\n",
    "# Predecir en validation set\n",
    "y_val_pred = rf.predict(x_val)\n",
    "# Evaluar con classification_report\n",
    "print(\"Random Forest - Validation Set\")\n",
    "print(classification_report(y_val, y_val_pred, target_names=['ATTACK', 'BENIGN']))\n",
    "print(rf.score(x_train, y_train))\n",
    "print(rf.score(x_test, y_test))"
   ]
  },
  {
   "cell_type": "code",
   "execution_count": 30,
   "id": "ed5d7b3c-e096-4a4d-a696-b515bf319862",
   "metadata": {},
   "outputs": [
    {
     "name": "stdout",
     "output_type": "stream",
     "text": [
      "Random Forest - Validation Set\n",
      "              precision    recall  f1-score   support\n",
      "\n",
      "      ATTACK       1.00      1.00      1.00         8\n",
      "      BENIGN       1.00      1.00      1.00       710\n",
      "\n",
      "    accuracy                           1.00       718\n",
      "   macro avg       1.00      1.00      1.00       718\n",
      "weighted avg       1.00      1.00      1.00       718\n",
      "\n",
      "1.0\n",
      "1.0\n"
     ]
    }
   ],
   "source": [
    "from imblearn.over_sampling import SMOTE\n",
    "from sklearn.ensemble import RandomForestClassifier\n",
    "from sklearn.metrics import classification_report\n",
    "# Then apply SMOTE only to training set\n",
    "smote = SMOTE(random_state=42)\n",
    "x_train_res, y_train_res = smote.fit_resample(x_train, y_train)\n",
    "# Crear el modelo\n",
    "rf = RandomForestClassifier(random_state=42)\n",
    "# Entrenar con training set\n",
    "rf.fit(x_train_res, y_train_res)\n",
    "# Predecir en validation set\n",
    "y_val_pred = rf.predict(x_val)\n",
    "# Evaluar con classification_report\n",
    "print(\"Random Forest - Validation Set\")\n",
    "print(classification_report(y_val, y_val_pred, target_names=['ATTACK', 'BENIGN']))\n",
    "print(rf.score(x_train_res, y_train_res))\n",
    "print(rf.score(x_test, y_test))"
   ]
  },
  {
   "cell_type": "code",
   "execution_count": 38,
   "id": "98771ef4-5335-4420-909f-93e71a74b53f",
   "metadata": {},
   "outputs": [
    {
     "name": "stdout",
     "output_type": "stream",
     "text": [
      "Logistic Regression - Validation Set\n",
      "              precision    recall  f1-score   support\n",
      "\n",
      "      ATTACK       0.88      0.88      0.88         8\n",
      "      BENIGN       1.00      1.00      1.00       710\n",
      "\n",
      "    accuracy                           1.00       718\n",
      "   macro avg       0.94      0.94      0.94       718\n",
      "weighted avg       1.00      1.00      1.00       718\n",
      "\n",
      "============================================================\n",
      "Decision Tree - Validation Set\n",
      "              precision    recall  f1-score   support\n",
      "\n",
      "      ATTACK       1.00      1.00      1.00         8\n",
      "      BENIGN       1.00      1.00      1.00       710\n",
      "\n",
      "    accuracy                           1.00       718\n",
      "   macro avg       1.00      1.00      1.00       718\n",
      "weighted avg       1.00      1.00      1.00       718\n",
      "\n",
      "============================================================\n",
      "Gradient Boosting - Validation Set\n",
      "              precision    recall  f1-score   support\n",
      "\n",
      "      ATTACK       1.00      1.00      1.00         8\n",
      "      BENIGN       1.00      1.00      1.00       710\n",
      "\n",
      "    accuracy                           1.00       718\n",
      "   macro avg       1.00      1.00      1.00       718\n",
      "weighted avg       1.00      1.00      1.00       718\n",
      "\n",
      "============================================================\n",
      "K-Nearest Neighbors - Validation Set\n",
      "              precision    recall  f1-score   support\n",
      "\n",
      "      ATTACK       0.73      1.00      0.84         8\n",
      "      BENIGN       1.00      1.00      1.00       710\n",
      "\n",
      "    accuracy                           1.00       718\n",
      "   macro avg       0.86      1.00      0.92       718\n",
      "weighted avg       1.00      1.00      1.00       718\n",
      "\n",
      "============================================================\n"
     ]
    },
    {
     "name": "stderr",
     "output_type": "stream",
     "text": [
      "/opt/anaconda3/lib/python3.12/site-packages/sklearn/linear_model/_logistic.py:469: ConvergenceWarning: lbfgs failed to converge (status=1):\n",
      "STOP: TOTAL NO. of ITERATIONS REACHED LIMIT.\n",
      "\n",
      "Increase the number of iterations (max_iter) or scale the data as shown in:\n",
      "    https://scikit-learn.org/stable/modules/preprocessing.html\n",
      "Please also refer to the documentation for alternative solver options:\n",
      "    https://scikit-learn.org/stable/modules/linear_model.html#logistic-regression\n",
      "  n_iter_i = _check_optimize_result(\n"
     ]
    }
   ],
   "source": [
    "from sklearn.linear_model import LogisticRegression\n",
    "from sklearn.tree import DecisionTreeClassifier\n",
    "from sklearn.ensemble import GradientBoostingClassifier\n",
    "from sklearn.neighbors import KNeighborsClassifier\n",
    "from sklearn.metrics import accuracy_score, f1_score, precision_score, recall_score\n",
    "\n",
    "resultados_modelos = []\n",
    "\n",
    "def evaluar_modelo(modelo, x_train, y_train, x_val, y_val, nombre_modelo=\"Modelo\"):\n",
    "    modelo.fit(x_train, y_train)\n",
    "    y_val_pred = modelo.predict(x_val)\n",
    "    \n",
    "    acc = accuracy_score(y_val, y_val_pred)\n",
    "    f1 = f1_score(y_val, y_val_pred)\n",
    "    prec = precision_score(y_val, y_val_pred)\n",
    "    rec = recall_score(y_val, y_val_pred)\n",
    "\n",
    "    resultados_modelos.append({\n",
    "        \"Modelo\": nombre_modelo,\n",
    "        \"Accuracy\": acc,\n",
    "        \"F1 Score\": f1,\n",
    "        \"Precision\": prec,\n",
    "        \"Recall\": rec\n",
    "    })\n",
    "    \n",
    "    print(f\"{nombre_modelo} - Validation Set\")\n",
    "    print(classification_report(y_val, y_val_pred, target_names=['ATTACK', 'BENIGN']))\n",
    "    \n",
    "modelos = [\n",
    "    (LogisticRegression(max_iter=1000), \"Logistic Regression\"),\n",
    "    (DecisionTreeClassifier(), \"Decision Tree\"),\n",
    "    (GradientBoostingClassifier(random_state=42), \"Gradient Boosting\"),\n",
    "    (KNeighborsClassifier(), \"K-Nearest Neighbors\"),\n",
    "]\n",
    "\n",
    "for modelo, nombre in modelos:\n",
    "    evaluar_modelo(modelo, x_train, y_train, x_val, y_val, nombre)\n",
    "    print(\"=\"*60)"
   ]
  },
  {
   "cell_type": "code",
   "execution_count": 40,
   "id": "673b1cf6-b5cc-4f01-989e-44e550b8cdab",
   "metadata": {},
   "outputs": [
    {
     "data": {
      "image/png": "[encoded data removed]",
      "text/plain": [
       "<Figure size 1200x600 with 1 Axes>"
      ]
     },
     "metadata": {},
     "output_type": "display_data"
    }
   ],
   "source": [
    "import matplotlib.pyplot as plt\n",
    "\n",
    "df_resultados = pd.DataFrame(resultados_modelos)\n",
    "\n",
    "# Graficar\n",
    "df_resultados.set_index(\"Modelo\").plot(kind=\"bar\", figsize=(12,6))\n",
    "plt.title(\"Comparación de modelos - Métricas en Set de Validación\")\n",
    "plt.ylabel(\"Score\")\n",
    "plt.ylim(0.5, 1.05)\n",
    "plt.xticks(rotation=45)\n",
    "plt.grid(axis=\"y\")\n",
    "plt.legend(loc=\"lower right\")\n",
    "plt.tight_layout()\n",
    "plt.show()"
   ]
  },
  {
   "cell_type": "code",
   "execution_count": 42,
   "id": "2c5786e0-76c3-4d17-a7f1-59e371b1a5fe",
   "metadata": {},
   "outputs": [
    {
     "name": "stdout",
     "output_type": "stream",
     "text": [
      "Cross-Validation Results:\n",
      "accuracy: 1.0000 (+/- 0.0000)\n",
      "precision: 1.0000 (+/- 0.0000)\n",
      "recall: 1.0000 (+/- 0.0000)\n",
      "f1: 1.0000 (+/- 0.0000)\n"
     ]
    }
   ],
   "source": [
    "from sklearn.model_selection import cross_validate\n",
    "from sklearn.metrics import make_scorer\n",
    "\n",
    "# Define your model\n",
    "model = RandomForestClassifier(class_weight='balanced', random_state=42)\n",
    "# Define scoring metrics\n",
    "scoring = {\n",
    "    'accuracy': 'accuracy',\n",
    "    'precision': 'precision',\n",
    "    'recall': 'recall',\n",
    "    'f1': 'f1'\n",
    "}\n",
    "# Run cross-validation (e.g., 5-fold)\n",
    "cv_results = cross_validate(\n",
    "    model, df_x, y,\n",
    "    cv=5,\n",
    "    scoring=scoring,\n",
    "    return_train_score=False\n",
    ")\n",
    "# Print results\n",
    "print(\"Cross-Validation Results:\")\n",
    "for score in scoring:\n",
    "    mean = cv_results[f'test_{score}'].mean()\n",
    "    std = cv_results[f'test_{score}'].std()\n",
    "    print(f\"{score}: {mean:.4f} (+/- {std:.4f})\")"
   ]
  },
  {
   "cell_type": "code",
   "execution_count": null,
   "id": "205a7c92-9d02-4e3e-8f87-29cdf975e3c7",
   "metadata": {},
   "outputs": [],
   "source": [
    "'''Todos los modelos (Random Forest, Gradient Boosting, etc.) mostraron accuracy = 1.0, \n",
    "sugiriendo data leakage o sobreajuste.\n",
    "\n",
    "SMOTE no mejoró las métricas, posiblemente por el desbalanceo extremo o variables \n",
    "redundantes.\n",
    "\n",
    "La métrica accuracy es engañosa en contextos desbalanceados: priorizar Recall o F1-Score \n",
    "para la clase ATTACK.\n",
    "\n",
    "La validación cruzada perfecta refuerza la necesidad de auditar variables y evitar filtrado \n",
    "de información.\n",
    "\n",
    "Pasos Futuros:\n",
    "Investigar y eliminar posibles fuentes de data leakage (ejemplo: ID_freq), probar técnicas \n",
    "híbridas de balanceo (SMOTEENN) y modelos como XGBoost, enfocándose en métricas robustas \n",
    "para la clase minoritaria.'''\n",
    "\n"
   ]
  }
 ],
 "metadata": {
  "kernelspec": {
   "display_name": "Python [conda env:base] *",
   "language": "python",
   "name": "conda-base-py"
  },
  "language_info": {
   "codemirror_mode": {
    "name": "ipython",
    "version": 3
   },
   "file_extension": ".py",
   "mimetype": "text/x-python",
   "name": "python",
   "nbconvert_exporter": "python",
   "pygments_lexer": "ipython3",
   "version": "3.12.2"
  }
 },
 "nbformat": 4,
 "nbformat_minor": 5
}
