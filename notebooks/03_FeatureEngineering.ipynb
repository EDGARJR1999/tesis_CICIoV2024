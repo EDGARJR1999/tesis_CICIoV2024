{
 "cells": [
  {
   "cell_type": "code",
   "execution_count": 14,
   "id": "3f41aa70-f748-4a30-9758-23ab9ab94e33",
   "metadata": {},
   "outputs": [],
   "source": [
    "import pandas as pd\n",
    "\n",
    "clean_dec_fe = pd.read_csv('../data/clean/dec/df_feat_engineering.csv')"
   ]
  },
  {
   "cell_type": "code",
   "execution_count": 16,
   "id": "6b4bcece-4acd-4e23-9547-9843cd36c8f8",
   "metadata": {},
   "outputs": [
    {
     "data": {
      "text/plain": [
       "<bound method NDFrame.head of         ID  DATA_0  DATA_1  DATA_2  DATA_3  DATA_4  DATA_5  DATA_6  DATA_7  \\\n",
       "0       65      96       0       0       0       0       0       0       0   \n",
       "1     1068     132      13     160       0       0       0       0       0   \n",
       "2      535     127     255     127     255     127     255     127     255   \n",
       "3      131      15     224       0       0       0       0       0       0   \n",
       "4      936       1       0      39      16       0       0       0       0   \n",
       "...    ...     ...     ...     ...     ...     ...     ...     ...     ...   \n",
       "3583   344       6      28       6      63       6      42       2      41   \n",
       "3584   513       0       0       0       0     100       0       2       0   \n",
       "3585   128       0       0       0       0       0       0       0       0   \n",
       "3586   128     132       3       2      35      24       5     138      34   \n",
       "3587   128     194       1       2      35      24       5     138      34   \n",
       "\n",
       "       label  category  specific_class  ID_freq  \n",
       "0     BENIGN    BENIGN          BENIGN    43193  \n",
       "1     BENIGN    BENIGN          BENIGN    17278  \n",
       "2     BENIGN    BENIGN          BENIGN    86385  \n",
       "3     BENIGN    BENIGN          BENIGN     8635  \n",
       "4     BENIGN    BENIGN          BENIGN    43193  \n",
       "...      ...       ...             ...      ...  \n",
       "3583  ATTACK  SPOOFING           SPEED    19962  \n",
       "3584  ATTACK  SPOOFING           SPEED    34943  \n",
       "3585  ATTACK  SPOOFING  STEERING_WHEEL    19977  \n",
       "3586  ATTACK  SPOOFING  STEERING_WHEEL    19977  \n",
       "3587  ATTACK  SPOOFING  STEERING_WHEEL    19977  \n",
       "\n",
       "[3588 rows x 13 columns]>"
      ]
     },
     "execution_count": 16,
     "metadata": {},
     "output_type": "execute_result"
    }
   ],
   "source": [
    "df = clean_dec_fe \n",
    "df.head"
   ]
  },
  {
   "cell_type": "code",
   "execution_count": 18,
   "id": "add2ebd3-d98e-4025-9060-f405311dc6fb",
   "metadata": {},
   "outputs": [
    {
     "name": "stdout",
     "output_type": "stream",
     "text": [
      "Label: {'ATTACK': 0, 'BENIGN': 1}\n",
      "Category: {'BENIGN': 0, 'DoS': 1, 'SPOOFING': 2}\n",
      "Specific Class: {'BENIGN': 0, 'DoS': 1, 'GAS': 2, 'RPM': 3, 'SPEED': 4, 'STEERING_WHEEL': 5}\n"
     ]
    }
   ],
   "source": [
    "from sklearn.preprocessing import LabelEncoder\n",
    "\n",
    "# Crear codificadores\n",
    "le_label = LabelEncoder()\n",
    "le_category = LabelEncoder()\n",
    "le_specific_class = LabelEncoder()\n",
    "# Codificar y guardar en nuevas columnas\n",
    "df['label_encoded'] = le_label.fit_transform(df['label'])\n",
    "df['category_encoded'] = le_category.fit_transform(df['category'])\n",
    "df['specific_class_encoded'] = le_specific_class.fit_transform(df['specific_class'])\n",
    "# (Opcional) ver los mapeos\n",
    "print(\"Label:\", dict(zip(le_label.classes_, le_label.transform(le_label.classes_))))\n",
    "print(\"Category:\", dict(zip(le_category.classes_, le_category.transform(le_category.classes_))))\n",
    "print(\"Specific Class:\", dict(zip(le_specific_class.classes_, le_specific_class.transform(le_specific_class.classes_))))\n"
   ]
  },
  {
   "cell_type": "code",
   "execution_count": 23,
   "id": "a0482378-222d-48bb-8774-eadae431b108",
   "metadata": {},
   "outputs": [
    {
     "data": {
      "text/plain": [
       "<bound method NDFrame.head of         ID  DATA_0  DATA_1  DATA_2  DATA_3  DATA_4  DATA_5  DATA_6  DATA_7  \\\n",
       "0       65      96       0       0       0       0       0       0       0   \n",
       "1     1068     132      13     160       0       0       0       0       0   \n",
       "2      535     127     255     127     255     127     255     127     255   \n",
       "3      131      15     224       0       0       0       0       0       0   \n",
       "4      936       1       0      39      16       0       0       0       0   \n",
       "...    ...     ...     ...     ...     ...     ...     ...     ...     ...   \n",
       "3583   344       6      28       6      63       6      42       2      41   \n",
       "3584   513       0       0       0       0     100       0       2       0   \n",
       "3585   128       0       0       0       0       0       0       0       0   \n",
       "3586   128     132       3       2      35      24       5     138      34   \n",
       "3587   128     194       1       2      35      24       5     138      34   \n",
       "\n",
       "      ID_freq  label_encoded  category_encoded  specific_class_encoded  \n",
       "0       43193              1                 0                       0  \n",
       "1       17278              1                 0                       0  \n",
       "2       86385              1                 0                       0  \n",
       "3        8635              1                 0                       0  \n",
       "4       43193              1                 0                       0  \n",
       "...       ...            ...               ...                     ...  \n",
       "3583    19962              0                 2                       4  \n",
       "3584    34943              0                 2                       4  \n",
       "3585    19977              0                 2                       5  \n",
       "3586    19977              0                 2                       5  \n",
       "3587    19977              0                 2                       5  \n",
       "\n",
       "[3588 rows x 13 columns]>"
      ]
     },
     "execution_count": 23,
     "metadata": {},
     "output_type": "execute_result"
    }
   ],
   "source": [
    "df = df.drop(columns=['label', 'category', 'specific_class'])\n",
    "df.head"
   ]
  },
  {
   "cell_type": "code",
   "execution_count": 26,
   "id": "d06801c5-e0bd-46bf-ab69-5ac1d284e5c0",
   "metadata": {},
   "outputs": [],
   "source": [
    "# Define target and features\n",
    "X = df.drop(columns=['label_encoded'])  # all features\n",
    "y = df['label_encoded']                 # target (0 = ATTACK, 1 = BENIGN)"
   ]
  },
  {
   "cell_type": "code",
   "execution_count": 28,
   "id": "908070ce-b091-4064-859d-c9bd9247d7bd",
   "metadata": {},
   "outputs": [
    {
     "name": "stdout",
     "output_type": "stream",
     "text": [
      "label_encoded\n",
      "1    0.988573\n",
      "0    0.011427\n",
      "Name: proportion, dtype: float64\n"
     ]
    },
    {
     "data": {
      "image/png": "[encoded data removed]",
      "text/plain": [
       "<Figure size 640x480 with 1 Axes>"
      ]
     },
     "metadata": {},
     "output_type": "display_data"
    }
   ],
   "source": [
    "import seaborn as sns\n",
    "import matplotlib.pyplot as plt\n",
    "# Value counts\n",
    "print(y.value_counts(normalize=True))\n",
    "# Plot\n",
    "sns.countplot(x=y)\n",
    "plt.title(\"Class Distribution\")\n",
    "plt.xticks([0, 1], ['ATTACK', 'BENIGN'])\n",
    "plt.show()"
   ]
  },
  {
   "cell_type": "code",
   "execution_count": 32,
   "id": "d31f35a0-a522-4ccd-962b-f252c0e1afc4",
   "metadata": {},
   "outputs": [],
   "source": [
    "X.to_csv('../data/curated/df_features.csv', index=False)\n",
    "y.to_csv('../data/curated/df_target.csv', index=False)"
   ]
  },
  {
   "cell_type": "code",
   "execution_count": null,
   "id": "19a6b837-c0be-4910-a9a5-78d10edbd529",
   "metadata": {},
   "outputs": [],
   "source": [
    "#Se identificó un desbalanceo extremo (98.8% BENIGN vs 1.1% ATTACK), crítico para el \n",
    "#modelado predictivo.\n"
   ]
  }
 ],
 "metadata": {
  "kernelspec": {
   "display_name": "Python [conda env:base] *",
   "language": "python",
   "name": "conda-base-py"
  },
  "language_info": {
   "codemirror_mode": {
    "name": "ipython",
    "version": 3
   },
   "file_extension": ".py",
   "mimetype": "text/x-python",
   "name": "python",
   "nbconvert_exporter": "python",
   "pygments_lexer": "ipython3",
   "version": "3.12.2"
  }
 },
 "nbformat": 4,
 "nbformat_minor": 5
}
